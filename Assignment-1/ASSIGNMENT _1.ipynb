{
 "cells": [
  {
   "cell_type": "markdown",
   "id": "8caa8f97",
   "metadata": {},
   "source": [
    "# PROBLEM 1"
   ]
  },
  {
   "cell_type": "code",
   "execution_count": null,
   "id": "9f362a08",
   "metadata": {},
   "outputs": [],
   "source": [
    "my_string = 'HELLO WORLD!'\n",
    "print(my_string)"
   ]
  },
  {
   "cell_type": "markdown",
   "id": "19df9a67",
   "metadata": {},
   "source": [
    "# PROBLEM 2"
   ]
  },
  {
   "cell_type": "code",
   "execution_count": null,
   "id": "e0e76784",
   "metadata": {},
   "outputs": [],
   "source": [
    "a = int(input('enter first number a:'))\n",
    "b = int(input('enter second number b:'))\n",
    "c=a+b\n",
    "print('answer of addition = ',c)\n",
    "d=a-b\n",
    "print('answer of subtraction = ',d)\n",
    "e=a*b\n",
    "print('answer of multiplication = ',e)\n",
    "f=a/b\n",
    "print('answer of division = ',f)\n",
    "g=a%b\n",
    "print('remainder of a to b = ',g)"
   ]
  },
  {
   "cell_type": "markdown",
   "id": "1c6fff57",
   "metadata": {},
   "source": [
    "# PROBLEM 3"
   ]
  },
  {
   "cell_type": "code",
   "execution_count": null,
   "id": "a49e6d91",
   "metadata": {},
   "outputs": [],
   "source": [
    "factorial=1\n",
    "n = int(input('enter a number :'))\n",
    "if n<0:\n",
    "    print('sorry factorial does not exixt for negative number')\n",
    "elif n == 0:\n",
    "    print('the factorial of 0 is 1')\n",
    "else:\n",
    "    for i in range(1,n+1):\n",
    "        factorial= factorial*i\n",
    "    print('the factorial of n = ', factorial )"
   ]
  },
  {
   "cell_type": "markdown",
   "id": "671b5ab0",
   "metadata": {},
   "source": [
    "# PROBLEM 4"
   ]
  },
  {
   "cell_type": "code",
   "execution_count": null,
   "id": "d5804583",
   "metadata": {},
   "outputs": [],
   "source": [
    "a = int(input('enter a: '))\n",
    "b = int(input('enter b: '))\n",
    "flag = False\n",
    "\n",
    "print(f\"\\nIN BETWEEN [{a}, {b}]\")\n",
    "for i in range(a, b+1):\n",
    "    for j in range(2,i):\n",
    "        if (i % j) == 0:\n",
    "            break\n",
    "    else:\n",
    "        print(i,\"is a prime number\")    \n",
    "        flag = True\n",
    "\n",
    "if not flag:\n",
    "    print(\"No prime number present \")"
   ]
  },
  {
   "cell_type": "markdown",
   "id": "ddf0c67a",
   "metadata": {},
   "source": [
    "# PROBLEM 5"
   ]
  },
  {
   "cell_type": "code",
   "execution_count": 1,
   "id": "5943e8f4",
   "metadata": {},
   "outputs": [
    {
     "name": "stdout",
     "output_type": "stream",
     "text": [
      "Enter the first number :2\n",
      "Enter the second number :3\n",
      "LCM is: 6\n"
     ]
    }
   ],
   "source": [
    "a=int(input(\"Enter the first number :\"))\n",
    "b=int(input(\"Enter the second number :\"))\n",
    "if(a>b):\n",
    "    min1=a\n",
    "else:\n",
    "    min1=b\n",
    "    \n",
    "while True:\n",
    "    if(min1%a==0 and min1%b==0):\n",
    "        print(\"LCM is:\",min1)\n",
    "        break\n",
    "    min1=min1+1"
   ]
  },
  {
   "cell_type": "markdown",
   "id": "01905246",
   "metadata": {},
   "source": [
    "# PROBLEM 6\n"
   ]
  },
  {
   "cell_type": "code",
   "execution_count": 4,
   "id": "9fd99539",
   "metadata": {},
   "outputs": [
    {
     "name": "stdout",
     "output_type": "stream",
     "text": [
      "enter the 15 numbers :1 2 3 4 5 6 7 8 9 10 11 12 13 14 15\n",
      "sorted_list is :  [15, 14, 13, 12, 11, 10, 9, 8, 7, 6, 5, 4, 3, 2, 1]\n",
      "Their indecis are :  [0, 1, 2, 3, 4, 5, 6, 7, 8, 9, 10, 11, 12, 13, 14]\n"
     ]
    }
   ],
   "source": [
    "def bubblesort(num):\n",
    "    n = len(num)\n",
    "    lst = []\n",
    "    for i in range(n):\n",
    "        lst.append(i)\n",
    "    count = 1\n",
    "    while(count!=0):\n",
    "        count = 0\n",
    "        for i in range(n-1):\n",
    "            a = num[i]\n",
    "            b = num[i+1]\n",
    "            c = lst[i]\n",
    "            d = lst[i+1]\n",
    "            if b>a:\n",
    "                num[i], num[i+1] = b, a\n",
    "                lst[i], lst[i+1] = d, c\n",
    "                count+=1\n",
    "    return num, lst\n",
    "num = [int(i) for i in input(\"enter the 15 numbers :\").split()]\n",
    "print(\"sorted_list is : \",bubblesort(num)[0])\n",
    "print(\"Their indecis are : \", bubblesort(num)[1]) "
   ]
  },
  {
   "cell_type": "markdown",
   "id": "bd2bef83",
   "metadata": {},
   "source": [
    "# PROBLEM 7"
   ]
  },
  {
   "cell_type": "code",
   "execution_count": 5,
   "id": "cb88b5fd",
   "metadata": {},
   "outputs": [
    {
     "name": "stdout",
     "output_type": "stream",
     "text": [
      "enter the 15 numbers :1 2 3 4 5 6 7 8 9 \n",
      "sorted_list is :  [9 8 7 6 5 4 3 2 1]\n",
      "their indecis are : [0 1 2 3 4 5 6 7 8]\n"
     ]
    }
   ],
   "source": [
    "import numpy as np\n",
    "lst = [int(i) for i in input(\"enter the 15 numbers :\").split()]\n",
    "arr = np.array(lst)\n",
    "\n",
    "def bubblesort_arr(arr):\n",
    "    n = len(arr)\n",
    "    indices_arr = np.zeros(n, dtype= \"int\")\n",
    "    for i in range(n):\n",
    "        indices_arr[i] = i\n",
    "    count = 1\n",
    "    while(count!=0):\n",
    "        count = 0\n",
    "        for i in range(n-1):\n",
    "            a = arr[i]\n",
    "            b = arr[i+1]\n",
    "            c = indices_arr[i]\n",
    "            d = indices_arr[i+1]\n",
    "            if b>a:\n",
    "                arr[i], arr[i+1] = b, a\n",
    "                indices_arr[i], indices_arr[i+1] = d, c\n",
    "                count+=1\n",
    "    return arr, indices_arr\n",
    "print(\"sorted_list is : \",bubblesort_arr(arr)[0])\n",
    "print(\"their indecis are :\",bubblesort_arr(arr)[1] )"
   ]
  },
  {
   "cell_type": "markdown",
   "id": "2e6912a4",
   "metadata": {},
   "source": [
    "# PROBLEM 8"
   ]
  },
  {
   "cell_type": "code",
   "execution_count": 7,
   "id": "30869053",
   "metadata": {},
   "outputs": [
    {
     "name": "stdout",
     "output_type": "stream",
     "text": [
      "1 2\n",
      "[[4 2]]\n"
     ]
    }
   ],
   "source": [
    "import numpy as np\n",
    "import random\n",
    "n, m = [int(i) for i in input().split()]\n",
    "arr = np.random.randint(-2, 6, size = (n, m))\n",
    "print(arr)"
   ]
  },
  {
   "cell_type": "markdown",
   "id": "1b0df76c",
   "metadata": {},
   "source": [
    "# PROBLEM 9"
   ]
  },
  {
   "cell_type": "code",
   "execution_count": 8,
   "id": "a8b05c09",
   "metadata": {},
   "outputs": [
    {
     "name": "stdout",
     "output_type": "stream",
     "text": [
      "1 2 3\n",
      "correct answer\n",
      "resultant matrix :  [[-6, 13, 7]]\n"
     ]
    }
   ],
   "source": [
    "import numpy as np\n",
    "import random\n",
    "m , n ,p = [int(i) for i in input().split()]\n",
    "mat1 = np.random.randint(-2, 6, size = (m,n))\n",
    "mat2 = np.random.randint(-2, 6, size = (n,p))\n",
    "mat3 = [[0 for i in range(p)] for j in range(m)]\n",
    "for i in range(m):\n",
    "    a = mat1[i]\n",
    "    for j in range(p):\n",
    "        b = mat2[:,j]\n",
    "        mat3[i][j] = sum([a[i]*b[i] for i in range(len(a))])\n",
    "res = np.dot(mat1, mat2)\n",
    "comparison = res==mat3\n",
    "if comparison.all():\n",
    "    print(\"correct answer\")\n",
    "else:\n",
    "    print(\"incorrect answer\")\n",
    "print(\"resultant matrix : \", mat3)"
   ]
  },
  {
   "cell_type": "markdown",
   "id": "05e2872a",
   "metadata": {},
   "source": [
    "# PROBLEM 10"
   ]
  },
  {
   "cell_type": "code",
   "execution_count": 9,
   "id": "453bfc7a",
   "metadata": {},
   "outputs": [],
   "source": [
    "import random as rd\n",
    "import csv\n",
    "m,n = 100,10\n",
    "lst1 = [[ rd.random() for j in range(n)] for i in range(m)]\n",
    "filename = \"random_no.csv\"\n",
    "with open(filename,'w', newline='') as my_csv:\n",
    "    writer = csv.writer(my_csv)\n",
    "    writer.writerows(lst1)"
   ]
  },
  {
   "cell_type": "markdown",
   "id": "42148b51",
   "metadata": {},
   "source": [
    "# PROBLEM 11(A)"
   ]
  },
  {
   "cell_type": "code",
   "execution_count": 10,
   "id": "853610bc",
   "metadata": {},
   "outputs": [],
   "source": [
    "import csv\n",
    "filename = \"random_no.csv\"\n",
    "data = []\n",
    "with open(filename,'r') as csvfile:\n",
    "    b = csv.reader(csvfile)\n",
    "    for row in b:\n",
    "        data.append(row)"
   ]
  },
  {
   "cell_type": "markdown",
   "id": "e4dd6bde",
   "metadata": {},
   "source": [
    "# PROBLEM 11(B)"
   ]
  },
  {
   "cell_type": "code",
   "execution_count": 14,
   "id": "a56e83f5",
   "metadata": {},
   "outputs": [
    {
     "name": "stdout",
     "output_type": "stream",
     "text": [
      "0.5512687463093062     0\n",
      "0.16719056377569264    0\n",
      "0.05004329652205641    0\n",
      "0.5591542402874055     0\n",
      "0.9486395441701749     0\n",
      "0.95081805938958       0\n",
      "0.19236061579674868    0\n",
      "0.3944841145468738     0\n",
      "0.23274156075561037    0\n",
      "0.729016573684304      0\n",
      "dtype: int64\n"
     ]
    }
   ],
   "source": [
    "import pandas as pd\n",
    "X = pd.read_csv(\"random_no.csv\")\n",
    "del X['Unnamed: 0']\n",
    "mu = X.mean(axis = 0)\n",
    "var1 = X-mu\n",
    "var2 = var1.T\n",
    "prod = var1.dot(var2)\n",
    "prod.mean(axis =0)"
   ]
  },
  {
   "cell_type": "markdown",
   "id": "0e0c1bd1",
   "metadata": {},
   "source": [
    "# PROBLEM 12"
   ]
  },
  {
   "cell_type": "code",
   "execution_count": null,
   "id": "ed423cee",
   "metadata": {},
   "outputs": [],
   "source": [
    "import math\n",
    "import cmath\n",
    "class Complex(object):\n",
    "    def __init__(self, real, img = 0.0):\n",
    "        self.real = real\n",
    "        self.img = img\n",
    "    def __abs__(self):\n",
    "        return math.abs(self)\n",
    "    def __add__(self, other):\n",
    "        return complex(other.real + self.real, other.img + self.img)\n",
    "    def __sub__(self, other):\n",
    "        return complex(self.real-other.real, self.img-other.img)\n",
    "    def __mul__(self,other):\n",
    "        real =(self.real*other.real-self.img*other.img)\n",
    "        img = (self.real*other.img-other.real*self.img)\n",
    "        return complex(real,img)\n",
    "    def __conj__(self):\n",
    "        return complex(self.real, -self.img)\n",
    "    def __truedev__(self,other):\n",
    "        num = other.real**2 + other.img**2\n",
    "        num2 = self.__mul__(other.conjugate)/num\n",
    "        return complex(num2)\n",
    "a, b = [int(i) for i in input().split()]\n",
    "c, d = [int(i) for i in input().split()]\n",
    "c1 = complex(a,b)\n",
    "c2 = complex(c,d)\n",
    "print(\"absolute value of c1  : \",c1.__abs__())\n",
    "print(\"absolute value of c2: \",c2.__abs__())\n",
    "print(\"conjugate of c1 is: \",c1.conjugate())\n",
    "print(\"conjugate of c2 is : \" ,c2.conjugate())\n",
    "print(\"addition is : \",c1.__add__(c2))\n",
    "print(\"subtraction is : \",c1.__sub__(c2))\n",
    "print(\"multiplication is : \",c1.__mul__(c2))\n",
    "print(\"division is ; \",c1.__truediv__(c2))\n",
    "print(\"angle of c1 : \",cmath.polar(c1))\n",
    "print(\"angle of c2 : \",cmath.polar(c2))"
   ]
  },
  {
   "cell_type": "markdown",
   "id": "e75b0d68",
   "metadata": {},
   "source": [
    "# PROBLEM 13"
   ]
  },
  {
   "cell_type": "code",
   "execution_count": 21,
   "id": "17016c6d",
   "metadata": {},
   "outputs": [
    {
     "data": {
      "image/png": "[encoded data removed]",
      "text/plain": [
       "<Figure size 432x288 with 1 Axes>"
      ]
     },
     "metadata": {
      "needs_background": "light"
     },
     "output_type": "display_data"
    }
   ],
   "source": [
    "# Create Data Points\n",
    "import numpy as np\n",
    "\n",
    "x13 = np.linspace(start = -10, stop = 10, num = 3, endpoint= True)\n",
    "y13 = x13*3 + 2\n",
    "\n",
    "# Generate Plot without Matplotlib\n",
    "# lineplot(x13, y13)\n",
    "\n",
    "\n",
    "import matplotlib.pyplot as plt\n",
    "%matplotlib inline\n",
    "\n",
    "plt.plot(x13, y13)\n",
    "plt.show()"
   ]
  },
  {
   "cell_type": "markdown",
   "id": "0b9d18e2",
   "metadata": {},
   "source": [
    "# PROBLEM 14"
   ]
  },
  {
   "cell_type": "code",
   "execution_count": 22,
   "id": "a18cd646",
   "metadata": {},
   "outputs": [
    {
     "data": {
      "image/png": "[encoded data removed]",
      "text/plain": [
       "<Figure size 720x360 with 1 Axes>"
      ]
     },
     "metadata": {
      "needs_background": "light"
     },
     "output_type": "display_data"
    }
   ],
   "source": [
    "# Create Data Points\n",
    "import math\n",
    "x14 = np.linspace(start = -5, stop = 15, num = 100, endpoint = True)\n",
    "y14 = np.linspace(start = -10, stop = 0, num =100, endpoint = True)\n",
    "yneg14 = -((1 - ((x14-5)**2)/(10**2))*(5**2))**0.5 - 5\n",
    "ypos14 = ((1 - ((x14-5)**2)/(10**2))*(5**2))**0.5 - 5\n",
    "ymaj14 = np.zeros(100) - 5\n",
    "xmin14 = np.zeros(100) + 5\n",
    "\n",
    "import matplotlib.pyplot as plt\n",
    "%matplotlib inline\n",
    "\n",
    "fig = plt.figure(figsize=(10,5))\n",
    "plt.xlim(-10,20)\n",
    "plt.ylim(-15,5)\n",
    "\n",
    "plt.plot(x14, yneg14)\n",
    "plt.plot(x14, ypos14)\n",
    "plt.plot(x14, ymaj14)\n",
    "plt.plot(xmin14, y14)\n",
    "plt.scatter(5,-5)\n",
    "plt.show()"
   ]
  },
  {
   "cell_type": "code",
   "execution_count": null,
   "id": "3ecb515a",
   "metadata": {},
   "outputs": [],
   "source": []
  }
 ],
 "metadata": {
  "kernelspec": {
   "display_name": "Python 3 (ipykernel)",
   "language": "python",
   "name": "python3"
  },
  "language_info": {
   "codemirror_mode": {
    "name": "ipython",
    "version": 3
   },
   "file_extension": ".py",
   "mimetype": "text/x-python",
   "name": "python",
   "nbconvert_exporter": "python",
   "pygments_lexer": "ipython3",
   "version": "3.9.6"
  }
 },
 "nbformat": 4,
 "nbformat_minor": 5
}
